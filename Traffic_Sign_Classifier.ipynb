{
 "cells": [
  {
   "cell_type": "markdown",
   "metadata": {},
   "source": [
    "# Self-Driving Car Engineer Nanodegree\n",
    "\n",
    "## Deep Learning\n",
    "\n",
    "## Project: Build a Traffic Sign Recognition Classifier\n",
    "\n",
    "In this notebook, a template is provided for you to implement your functionality in stages, which is required to successfully complete this project. If additional code is required that cannot be included in the notebook, be sure that the Python code is successfully imported and included in your submission if necessary. \n",
    "\n",
    "> **Note**: Once you have completed all of the code implementations, you need to finalize your work by exporting the iPython Notebook as an HTML document. Before exporting the notebook to html, all of the code cells need to have been run so that reviewers can see the final implementation and output. You can then export the notebook by using the menu above and navigating to  \\n\",\n",
    "    \"**File -> Download as -> HTML (.html)**. Include the finished document along with this notebook as your submission. \n",
    "\n",
    "In addition to implementing code, there is a writeup to complete. The writeup should be completed in a separate file, which can be either a markdown file or a pdf document. There is a [write up template](https://github.com/udacity/CarND-Traffic-Sign-Classifier-Project/blob/master/writeup_template.md) that can be used to guide the writing process. Completing the code template and writeup template will cover all of the [rubric points](https://review.udacity.com/#!/rubrics/481/view) for this project.\n",
    "\n",
    "The [rubric](https://review.udacity.com/#!/rubrics/481/view) contains \"Stand Out Suggestions\" for enhancing the project beyond the minimum requirements. The stand out suggestions are optional. If you decide to pursue the \"stand out suggestions\", you can include the code in this Ipython notebook and also discuss the results in the writeup file.\n",
    "\n",
    "\n",
    ">**Note:** Code and Markdown cells can be executed using the **Shift + Enter** keyboard shortcut. In addition, Markdown cells can be edited by typically double-clicking the cell to enter edit mode."
   ]
  },
  {
   "cell_type": "markdown",
   "metadata": {},
   "source": [
    "---\n",
    "## Step 0: Load The Data"
   ]
  },
  {
   "cell_type": "code",
   "execution_count": 117,
   "metadata": {},
   "outputs": [],
   "source": [
    "# Load pickled data\n",
    "import pickle\n",
    "\n",
    "training_file = './train.p'\n",
    "validation_file= './valid.p'\n",
    "testing_file = './test.p'\n",
    "\n",
    "with open(training_file, mode='rb') as f:\n",
    "    train = pickle.load(f)\n",
    "with open(validation_file, mode='rb') as f:\n",
    "    valid = pickle.load(f)\n",
    "with open(testing_file, mode='rb') as f:\n",
    "    test = pickle.load(f)\n",
    "    \n",
    "X_train, y_train = train['features'], train['labels']\n",
    "X_validation, y_validation = valid['features'], valid['labels']\n",
    "X_test, y_test = test['features'], test['labels']"
   ]
  },
  {
   "cell_type": "markdown",
   "metadata": {},
   "source": [
    "---\n",
    "\n",
    "## Step 1: Dataset Summary & Exploration\n",
    "\n",
    "The pickled data is a dictionary with 4 key/value pairs:\n",
    "\n",
    "- `'features'` is a 4D array containing raw pixel data of the traffic sign images, (num examples, width, height, channels).\n",
    "- `'labels'` is a 1D array containing the label/class id of the traffic sign. The file `signnames.csv` contains id -> name mappings for each id.\n",
    "- `'sizes'` is a list containing tuples, (width, height) representing the original width and height the image.\n",
    "- `'coords'` is a list containing tuples, (x1, y1, x2, y2) representing coordinates of a bounding box around the sign in the image. **THESE COORDINATES ASSUME THE ORIGINAL IMAGE. THE PICKLED DATA CONTAINS RESIZED VERSIONS (32 by 32) OF THESE IMAGES**\n",
    "\n",
    "Complete the basic data summary below. Use python, numpy and/or pandas methods to calculate the data summary rather than hard coding the results. For example, the [pandas shape method](http://pandas.pydata.org/pandas-docs/stable/generated/pandas.DataFrame.shape.html) might be useful for calculating some of the summary results. "
   ]
  },
  {
   "cell_type": "markdown",
   "metadata": {},
   "source": [
    "### Provide a Basic Summary of the Data Set Using Python, Numpy and/or Pandas"
   ]
  },
  {
   "cell_type": "code",
   "execution_count": 118,
   "metadata": {},
   "outputs": [
    {
     "name": "stdout",
     "output_type": "stream",
     "text": [
      "Number of training examples = 34799\n",
      "Number of valdiation examples = 4410\n",
      "Number of testing examples = 12630\n",
      "Image data shape = (32, 32, 3)\n",
      "Number of classes = 43\n"
     ]
    }
   ],
   "source": [
    "### Use python, pandas or numpy methods rather than hard coding the results\n",
    "import tensorflow.compat.v1 as tf\n",
    "tf.disable_v2_behavior()\n",
    "import numpy as np\n",
    "\n",
    "n_train = len(X_train)\n",
    "n_validation = len(X_validation)\n",
    "n_test = len(X_test)\n",
    "image_shape = np.array((X_train[0])).shape\n",
    "n_classes = len(np.unique(y_train))\n",
    "\n",
    "print(\"Number of training examples =\", n_train)\n",
    "print(\"Number of valdiation examples =\", n_validation)\n",
    "print(\"Number of testing examples =\", n_test)\n",
    "print(\"Image data shape =\", image_shape)\n",
    "print(\"Number of classes =\", n_classes)"
   ]
  },
  {
   "cell_type": "markdown",
   "metadata": {},
   "source": [
    "### Include an exploratory visualization of the dataset"
   ]
  },
  {
   "cell_type": "markdown",
   "metadata": {},
   "source": [
    "Visualize the German Traffic Signs Dataset using the pickled file(s). This is open ended, suggestions include: plotting traffic sign images, plotting the count of each sign, etc. \n",
    "\n",
    "The [Matplotlib](http://matplotlib.org/) [examples](http://matplotlib.org/examples/index.html) and [gallery](http://matplotlib.org/gallery.html) pages are a great resource for doing visualizations in Python.\n",
    "\n",
    "**NOTE:** It's recommended you start with something simple first. If you wish to do more, come back to it after you've completed the rest of the sections. It can be interesting to look at the distribution of classes in the training, validation and test set. Is the distribution the same? Are there more examples of some classes than others?"
   ]
  },
  {
   "cell_type": "code",
   "execution_count": 119,
   "metadata": {},
   "outputs": [
    {
     "name": "stdout",
     "output_type": "stream",
     "text": [
      "1\n"
     ]
    },
    {
     "data": {
      "image/png": "[encoded data removed]",
      "text/plain": [
       "<Figure size 72x72 with 1 Axes>"
      ]
     },
     "metadata": {},
     "output_type": "display_data"
    }
   ],
   "source": [
    "### Data exploration visualization code goes here.\n",
    "\n",
    "#import matplotlib.pyplot as plt\n",
    "import random\n",
    "#%matplotlib inline\n",
    "\n",
    "index = random.randint(0,len(X_train))\n",
    "image = X_train[index].squeeze()\n",
    "\n",
    "plt.figure(figsize = (1,1))\n",
    "plt.axis('off')\n",
    "plt.imshow(image)\n",
    "print(y_train[index])"
   ]
  },
  {
   "cell_type": "code",
   "execution_count": 120,
   "metadata": {},
   "outputs": [
    {
     "data": {
      "image/png": "[encoded data removed]",
      "text/plain": [
       "<Figure size 432x288 with 1 Axes>"
      ]
     },
     "metadata": {},
     "output_type": "display_data"
    }
   ],
   "source": [
    "import matplotlib.pyplot as plt\n",
    "%matplotlib inline\n",
    "plt.style.use('ggplot')\n",
    "\n",
    "x = ['Training', 'Validation', 'Test']\n",
    "energy = [n_train, n_validation, n_test]\n",
    "\n",
    "x_pos = [i for i, _ in enumerate(x)]\n",
    "\n",
    "plt.bar(x_pos, energy, color='#ffffd4')\n",
    "plt.xlabel(\"Sets\")\n",
    "plt.ylabel(\"Number of Samples\")\n",
    "plt.title(\"Sample split across sets\")\n",
    "\n",
    "ax = plt.gca()\n",
    "ax.set_facecolor('#5b7c99')\n",
    "ax.grid(False)\n",
    "\n",
    "plt.xticks(x_pos, x)\n",
    "\n",
    "plt.show()"
   ]
  },
  {
   "cell_type": "code",
   "execution_count": 121,
   "metadata": {},
   "outputs": [],
   "source": [
    "tf.reset_default_graph()"
   ]
  },
  {
   "cell_type": "markdown",
   "metadata": {},
   "source": [
    "----\n",
    "\n",
    "## Step 2: Design and Test a Model Architecture\n",
    "\n",
    "Design and implement a deep learning model that learns to recognize traffic signs. Train and test your model on the [German Traffic Sign Dataset](http://benchmark.ini.rub.de/?section=gtsrb&subsection=dataset).\n",
    "\n",
    "The LeNet-5 implementation shown in the [classroom](https://classroom.udacity.com/nanodegrees/nd013/parts/fbf77062-5703-404e-b60c-95b78b2f3f9e/modules/6df7ae49-c61c-4bb2-a23e-6527e69209ec/lessons/601ae704-1035-4287-8b11-e2c2716217ad/concepts/d4aca031-508f-4e0b-b493-e7b706120f81) at the end of the CNN lesson is a solid starting point. You'll have to change the number of classes and possibly the preprocessing, but aside from that it's plug and play! \n",
    "\n",
    "With the LeNet-5 solution from the lecture, you should expect a validation set accuracy of about 0.89. To meet specifications, the validation set accuracy will need to be at least 0.93. It is possible to get an even higher accuracy, but 0.93 is the minimum for a successful project submission. \n",
    "\n",
    "There are various aspects to consider when thinking about this problem:\n",
    "\n",
    "- Neural network architecture (is the network over or underfitting?)\n",
    "- Play around preprocessing techniques (normalization, rgb to grayscale, etc)\n",
    "- Number of examples per label (some have more than others).\n",
    "- Generate fake data.\n",
    "\n",
    "Here is an example of a [published baseline model on this problem](http://yann.lecun.com/exdb/publis/pdf/sermanet-ijcnn-11.pdf). It's not required to be familiar with the approach used in the paper but, it's good practice to try to read papers like these."
   ]
  },
  {
   "cell_type": "markdown",
   "metadata": {},
   "source": [
    "### Pre-process the Data Set (normalization, grayscale, etc.)"
   ]
  },
  {
   "cell_type": "markdown",
   "metadata": {},
   "source": [
    "Minimally, the image data should be normalized so that the data has mean zero and equal variance. For image data, `(pixel - 128)/ 128` is a quick way to approximately normalize the data and can be used in this project. \n",
    "\n",
    "Other pre-processing steps are optional. You can try different techniques to see if it improves performance. \n",
    "\n",
    "Use the code cell (or multiple code cells, if necessary) to implement the first step of your project."
   ]
  },
  {
   "cell_type": "code",
   "execution_count": 122,
   "metadata": {},
   "outputs": [],
   "source": [
    "### Preprocess the data here.\n",
    "### Grayscaling has been skipped under the intuition that the model can use colour signature to classify red and blue traffic \n",
    "### signs.\n",
    "\n",
    "from sklearn.utils import shuffle\n",
    "\n",
    "def preprocess(X_train, y_train, X_validation, y_validation, X_test, y_test):\n",
    "    \n",
    "    #Shuffle\n",
    "    X_train, y_train = shuffle(X_train, y_train)\n",
    "    X_validation, y_validation = shuffle(X_validation, y_validation)\n",
    "    X_test, y_test = shuffle(X_test, y_test)\n",
    "    \n",
    "    #Grayscale\n",
    "    #X_train = np.sum(X_train/3, axis=3, keepdims=True)\n",
    "    #X_validation = np.sum(X_validation/3, axis=3, keepdims=True)\n",
    "    #X_test = np.sum(X_test, axis=3, keepdims=True)\n",
    "    \n",
    "    #Normalize\n",
    "    X_train = (X_train - X_train.mean()) / X_train.std()\n",
    "    X_validation = (X_validation - X_validation.mean()) / X_validation.std()\n",
    "    X_test = (X_test - X_test.mean()) / X_test.std()\n",
    "    \n",
    "    return X_train, y_train, X_validation, y_validation, X_test, y_test"
   ]
  },
  {
   "cell_type": "code",
   "execution_count": 123,
   "metadata": {},
   "outputs": [],
   "source": [
    "def preprocess_images(images):\n",
    "    \n",
    "    processed = []\n",
    "    \n",
    "    for image in images:\n",
    "        image = np.array(image,dtype = np.float32)\n",
    "        image = (image - image.mean()) / image.std()\n",
    "        image = list(image)\n",
    "        processed.append(image)\n",
    "    \n",
    "    return processed"
   ]
  },
  {
   "cell_type": "code",
   "execution_count": 124,
   "metadata": {},
   "outputs": [
    {
     "name": "stderr",
     "output_type": "stream",
     "text": [
      "Clipping input data to the valid range for imshow with RGB data ([0..1] for floats or [0..255] for integers).\n"
     ]
    },
    {
     "name": "stdout",
     "output_type": "stream",
     "text": [
      "Shape: (34799, 32, 32, 3)\n",
      "Size: 3072\n",
      "Type: float64\n"
     ]
    },
    {
     "data": {
      "image/png": "[encoded data removed]",
      "text/plain": [
       "<Figure size 72x72 with 1 Axes>"
      ]
     },
     "metadata": {},
     "output_type": "display_data"
    }
   ],
   "source": [
    "X_train, y_train, X_validation, y_validation, X_test, y_test = preprocess(X_train, y_train, X_validation,\n",
    "                                                                          y_validation, X_test, y_test)\n",
    "\n",
    "plt.figure(figsize=(1,1))\n",
    "plt.axis('off')\n",
    "plt.imshow(X_train[0])\n",
    "\n",
    "keep_prob = tf.placeholder(tf.float32, name = \"Keep_Prob\")\n",
    "\n",
    "print(\"Shape:\", X_train.shape)\n",
    "print(\"Size:\", X_train[0].size)\n",
    "print(\"Type:\",X_train[0].dtype)"
   ]
  },
  {
   "cell_type": "markdown",
   "metadata": {},
   "source": [
    "### Model Architecture"
   ]
  },
  {
   "cell_type": "code",
   "execution_count": 125,
   "metadata": {},
   "outputs": [],
   "source": [
    "### Define your architecture here.\n",
    "\n",
    "from tensorflow.compat.v1.layers import flatten\n",
    "\n",
    "def LeNet(x):    \n",
    "    \n",
    "    # Arguments used for tf.truncated_normal, randomly defines variables for the weights and biases for each layer\n",
    "    mu = 0\n",
    "    sigma = 0.1\n",
    "    \n",
    "    # Layer 1: Convolutional. Input = 32x32x1. Output = 28x28x6.\n",
    "    wc1 = tf.Variable(tf.truncated_normal(shape = (5,5,3,6), mean = mu, stddev = sigma), name = \"Weights_Conv1\")\n",
    "    b1 = tf.Variable(tf.zeros(6), name = \"Bias_Conv1\")\n",
    "    conv1 = tf.nn.conv2d(x, wc1, strides = [1, 1, 1, 1], padding = 'VALID', name = \"Conv1\")\n",
    "    conv1 = tf.nn.bias_add(conv1, b1, name = \"Bias_Add_Conv1\")\n",
    "    \n",
    "    # Activation.\n",
    "    conv1 = tf.nn.relu(conv1, name = \"ReLU_Conv1\")\n",
    "\n",
    "    # Pooling. Input = 28x28x6. Output = 14x14x6.\n",
    "    conv1 = tf.nn.max_pool(conv1, ksize = [1,2,2,1], strides = [1,2,2,1], padding = 'VALID', name = \"MaxPool_Conv1\")\n",
    "    \n",
    "\n",
    "    # Layer 2: Convolutional. Output = 10x10x16.\n",
    "    wc2 = tf.Variable(tf.truncated_normal(shape = (5,5,6,16), mean = mu, stddev = sigma), name = \"Weights_Conv2\")\n",
    "    b2 = tf.Variable(tf.zeros(16), name = \"Bias_Conv2\")\n",
    "    conv2 = tf.nn.conv2d(conv1, wc2, strides = [1,1,1,1], padding = 'VALID', name = \"Conv2\") + b2\n",
    "    \n",
    "    # Activation.\n",
    "    conv2 = tf.nn.relu(conv2, name = \"ReLU_Conv2\")    \n",
    "    \n",
    "    # Pooling. Input = 10x10x16. Output = 5x5x16.\n",
    "    conv2 = tf.nn.max_pool(conv2, ksize = [1,2,2,1], strides = [1, 2, 2, 1], padding = 'VALID', name = \"MaxPool_Conv2\")\n",
    "    \n",
    "    # Dropout\n",
    "    conv2 = tf.nn.dropout(conv2, keep_prob, name = \"Dropout_Conv2\")\n",
    "    \n",
    "\n",
    "    # Flatten. Input = 5x5x16. Output = 400.\n",
    "    fc0 = flatten(conv2, name = \"Flatten_Conv2\")\n",
    "    \n",
    "    \n",
    "    # Layer 3: Fully Connected. Input = 400. Output = 120.\n",
    "    wfc1 = tf.Variable(tf.truncated_normal(shape = (400, 120), mean = mu, stddev = sigma), name = \"Weights_FC1\")\n",
    "    b3 = tf.Variable(tf.zeros(120), name = \"Bias_FC1\")\n",
    "    fc1 = tf.matmul(fc0, wfc1, name = \"FC1\") + b3\n",
    "    \n",
    "    # Activation.\n",
    "    fc1 = tf.nn.relu(fc1, name = \"ReLU_FC1\")\n",
    "    \n",
    "    # Dropout\n",
    "    fc1 = tf.nn.dropout(fc1, keep_prob, name = \"Dropout_FC1\")\n",
    "    \n",
    "\n",
    "    # Layer 4: Fully Connected. Input = 120. Output = 84.\n",
    "    wfc2 = tf.Variable(tf.truncated_normal(shape = (120, 84), mean = mu, stddev = sigma), name = \"Weights_FC2\")\n",
    "    b4 = tf.Variable(tf.zeros(84), name = \"Bias_FC2\")\n",
    "    fc2 = tf.matmul(fc1, wfc2, name = \"FC2\") + b4\n",
    "    \n",
    "    # Activation.\n",
    "    fc2 = tf.nn.relu(fc2, name = \"ReLU_FC2\")\n",
    "    \n",
    "    # Layer 5: Fully Connected. Input = 84. Output = 43.\n",
    "    wfc3 = tf.Variable(tf.truncated_normal(shape = (84, 43), mean = mu, stddev = sigma), name = \"Weights_FC3\")\n",
    "    b5 = tf.Variable(tf.zeros(43), name = \"Bias_FC3\")\n",
    "    logits = tf.matmul(fc2, wfc3, name = \"FC3\") + b5\n",
    "    \n",
    "    return logits"
   ]
  },
  {
   "cell_type": "markdown",
   "metadata": {},
   "source": [
    "### Train, Validate and Test the Model"
   ]
  },
  {
   "cell_type": "markdown",
   "metadata": {},
   "source": [
    "A validation set can be used to assess how well the model is performing. A low accuracy on the training and validation\n",
    "sets imply underfitting. A high accuracy on the training set but low accuracy on the validation set implies overfitting."
   ]
  },
  {
   "cell_type": "code",
   "execution_count": 126,
   "metadata": {},
   "outputs": [],
   "source": [
    "### Train your model here.\n",
    "### Calculate and report the accuracy on the training and validation set.\n",
    "### Once a final model architecture is selected, \n",
    "### the accuracy on the test set should be calculated and reported as well.\n",
    "### Feel free to use as many code cells as needed.\n",
    "\n",
    "x = tf.placeholder(tf.float32, (None, 32, 32, 3), name = \"X\")\n",
    "y = tf.placeholder(tf.int32, (None), name = \"Y\")\n",
    "one_hot_y = tf.one_hot(y, 43, name = \"OneHot_Y\")\n",
    "\n",
    "EPOCHS = 50\n",
    "BATCH_SIZE = 512"
   ]
  },
  {
   "cell_type": "code",
   "execution_count": 127,
   "metadata": {},
   "outputs": [
    {
     "name": "stderr",
     "output_type": "stream",
     "text": [
      "c:\\users\\dolphin48\\.conda\\envs\\tensorflow-gpu\\lib\\site-packages\\tensorflow\\python\\keras\\legacy_tf_layers\\core.py:329: UserWarning: `tf.layers.flatten` is deprecated and will be removed in a future version. Please use `tf.keras.layers.Flatten` instead.\n",
      "  warnings.warn('`tf.layers.flatten` is deprecated and '\n",
      "c:\\users\\dolphin48\\.conda\\envs\\tensorflow-gpu\\lib\\site-packages\\tensorflow\\python\\keras\\engine\\base_layer_v1.py:1694: UserWarning: `layer.apply` is deprecated and will be removed in a future version. Please use `layer.__call__` method instead.\n",
      "  warnings.warn('`layer.apply` is deprecated and '\n"
     ]
    }
   ],
   "source": [
    "rate = 0.001\n",
    "\n",
    "logits = LeNet(x)\n",
    "cross_entropy = tf.nn.softmax_cross_entropy_with_logits(labels=one_hot_y, logits=logits, name = \"Cross_Entropy\")\n",
    "loss_operation = tf.reduce_mean(cross_entropy, name = \"Loss\")\n",
    "optimizer = tf.train.AdamOptimizer(learning_rate = rate)\n",
    "training_operation = optimizer.minimize(loss_operation, name = \"Optimize\")"
   ]
  },
  {
   "cell_type": "code",
   "execution_count": 128,
   "metadata": {},
   "outputs": [],
   "source": [
    "correct_prediction = tf.equal(tf.argmax(logits, 1), tf.argmax(one_hot_y, 1), name = \"Equal\")\n",
    "accuracy_operation = tf.reduce_mean(tf.cast(correct_prediction, tf.float32), name = \"Reduce_Mean\")\n",
    "saver = tf.train.Saver()\n",
    "\n",
    "def evaluate(X_data, y_data):\n",
    "    \n",
    "    num_examples = len(X_data)\n",
    "    total_accuracy = 0\n",
    "    sess = tf.get_default_session()\n",
    "    for offset in range(0, num_examples, BATCH_SIZE):\n",
    "        batch_x, batch_y = X_data[offset:offset+BATCH_SIZE], y_data[offset:offset+BATCH_SIZE]\n",
    "        accuracy = sess.run(accuracy_operation, feed_dict={x: batch_x, y: batch_y, keep_prob: 1})\n",
    "        total_accuracy += (accuracy * len(batch_x))\n",
    "    return total_accuracy / num_examples"
   ]
  },
  {
   "cell_type": "code",
   "execution_count": 129,
   "metadata": {},
   "outputs": [
    {
     "name": "stdout",
     "output_type": "stream",
     "text": [
      "Training...\n",
      "\n",
      "EPOCH 1 ...\n",
      "Validation Accuracy = 0.473\n",
      "\n",
      "EPOCH 2 ...\n",
      "Validation Accuracy = 0.750\n",
      "\n",
      "EPOCH 3 ...\n",
      "Validation Accuracy = 0.841\n",
      "\n",
      "EPOCH 4 ...\n",
      "Validation Accuracy = 0.881\n",
      "\n",
      "EPOCH 5 ...\n",
      "Validation Accuracy = 0.907\n",
      "\n",
      "EPOCH 6 ...\n",
      "Validation Accuracy = 0.921\n",
      "\n",
      "EPOCH 7 ...\n",
      "Validation Accuracy = 0.925\n",
      "\n",
      "EPOCH 8 ...\n",
      "Validation Accuracy = 0.932\n",
      "\n",
      "EPOCH 9 ...\n",
      "Validation Accuracy = 0.936\n",
      "\n",
      "EPOCH 10 ...\n",
      "Validation Accuracy = 0.945\n",
      "\n",
      "EPOCH 11 ...\n",
      "Validation Accuracy = 0.942\n",
      "\n",
      "EPOCH 12 ...\n",
      "Validation Accuracy = 0.947\n",
      "\n",
      "EPOCH 13 ...\n",
      "Validation Accuracy = 0.950\n",
      "\n",
      "EPOCH 14 ...\n",
      "Validation Accuracy = 0.951\n",
      "\n",
      "EPOCH 15 ...\n",
      "Validation Accuracy = 0.946\n",
      "\n",
      "EPOCH 16 ...\n",
      "Validation Accuracy = 0.953\n",
      "\n",
      "EPOCH 17 ...\n",
      "Validation Accuracy = 0.945\n",
      "\n",
      "EPOCH 18 ...\n",
      "Validation Accuracy = 0.945\n",
      "\n",
      "EPOCH 19 ...\n",
      "Validation Accuracy = 0.950\n",
      "\n",
      "EPOCH 20 ...\n",
      "Validation Accuracy = 0.949\n",
      "\n",
      "EPOCH 21 ...\n",
      "Validation Accuracy = 0.946\n",
      "\n",
      "EPOCH 22 ...\n",
      "Validation Accuracy = 0.956\n",
      "\n",
      "EPOCH 23 ...\n",
      "Validation Accuracy = 0.955\n",
      "\n",
      "EPOCH 24 ...\n",
      "Validation Accuracy = 0.955\n",
      "\n",
      "EPOCH 25 ...\n",
      "Validation Accuracy = 0.953\n",
      "\n",
      "EPOCH 26 ...\n",
      "Validation Accuracy = 0.951\n",
      "\n",
      "EPOCH 27 ...\n",
      "Validation Accuracy = 0.956\n",
      "\n",
      "EPOCH 28 ...\n",
      "Validation Accuracy = 0.954\n",
      "\n",
      "EPOCH 29 ...\n",
      "Validation Accuracy = 0.951\n",
      "\n",
      "EPOCH 30 ...\n",
      "Validation Accuracy = 0.951\n",
      "\n",
      "EPOCH 31 ...\n",
      "Validation Accuracy = 0.956\n",
      "\n",
      "EPOCH 32 ...\n",
      "Validation Accuracy = 0.954\n",
      "\n",
      "EPOCH 33 ...\n",
      "Validation Accuracy = 0.951\n",
      "\n",
      "EPOCH 34 ...\n",
      "Validation Accuracy = 0.952\n",
      "\n",
      "EPOCH 35 ...\n",
      "Validation Accuracy = 0.952\n",
      "\n",
      "EPOCH 36 ...\n",
      "Validation Accuracy = 0.956\n",
      "\n",
      "EPOCH 37 ...\n",
      "Validation Accuracy = 0.955\n",
      "\n",
      "EPOCH 38 ...\n",
      "Validation Accuracy = 0.955\n",
      "\n",
      "EPOCH 39 ...\n",
      "Validation Accuracy = 0.955\n",
      "\n",
      "EPOCH 40 ...\n",
      "Validation Accuracy = 0.957\n",
      "\n",
      "EPOCH 41 ...\n",
      "Validation Accuracy = 0.958\n",
      "\n",
      "EPOCH 42 ...\n",
      "Validation Accuracy = 0.960\n",
      "\n",
      "EPOCH 43 ...\n",
      "Validation Accuracy = 0.960\n",
      "\n",
      "EPOCH 44 ...\n",
      "Validation Accuracy = 0.955\n",
      "\n",
      "EPOCH 45 ...\n",
      "Validation Accuracy = 0.958\n",
      "\n",
      "EPOCH 46 ...\n",
      "Validation Accuracy = 0.955\n",
      "\n",
      "EPOCH 47 ...\n",
      "Validation Accuracy = 0.959\n",
      "\n",
      "EPOCH 48 ...\n",
      "Validation Accuracy = 0.958\n",
      "\n",
      "EPOCH 49 ...\n",
      "Validation Accuracy = 0.958\n",
      "\n",
      "EPOCH 50 ...\n",
      "Validation Accuracy = 0.956\n",
      "\n",
      "Operation took 48.17 seconds\n",
      "Model saved\n"
     ]
    }
   ],
   "source": [
    "from tensorflow.compat.v1 import ConfigProto\n",
    "import time\n",
    "\n",
    "config = ConfigProto()\n",
    "config.gpu_options.allow_growth = True\n",
    "\n",
    "with tf.Session(config=config) as sess:\n",
    "    sess.run(tf.global_variables_initializer())\n",
    "    \n",
    "    start_time = time.time()\n",
    "    \n",
    "    print(\"Training...\")\n",
    "    print()\n",
    "    \n",
    "    for i in range(EPOCHS):\n",
    "        \n",
    "        for offset in range(0, n_train, BATCH_SIZE):\n",
    "            \n",
    "            end = offset + BATCH_SIZE\n",
    "            batch_x, batch_y = X_train[offset:end], y_train[offset:end]\n",
    "            sess.run(training_operation, feed_dict={x: batch_x, y: batch_y,keep_prob: 0.75})\n",
    "            \n",
    "        validation_accuracy = evaluate(X_validation, y_validation)\n",
    "        print(\"EPOCH {} ...\".format(i+1))\n",
    "        print(\"Validation Accuracy = {:.3f}\".format(validation_accuracy))\n",
    "        print()\n",
    "        \n",
    "    print(\"Operation took {:.2f} seconds\".format(time.time()-start_time))\n",
    "    saver.save(sess, './lenet.ckpt')\n",
    "    print(\"Model saved\")"
   ]
  },
  {
   "cell_type": "code",
   "execution_count": 130,
   "metadata": {},
   "outputs": [
    {
     "name": "stdout",
     "output_type": "stream",
     "text": [
      "INFO:tensorflow:Restoring parameters from .\\lenet.ckpt\n",
      "Test Accuracy = 0.950\n"
     ]
    }
   ],
   "source": [
    "with tf.Session() as sess:\n",
    "    saver.restore(sess, tf.train.latest_checkpoint('.'))\n",
    "\n",
    "    test_accuracy = evaluate(X_test, y_test)\n",
    "    print(\"Test Accuracy = {:.3f}\".format(test_accuracy))"
   ]
  },
  {
   "cell_type": "markdown",
   "metadata": {},
   "source": [
    "---\n",
    "\n",
    "## Step 3: Test a Model on New Images\n",
    "\n",
    "To give yourself more insight into how your model is working, download at least five pictures of German traffic signs from the web and use your model to predict the traffic sign type.\n",
    "\n",
    "You may find `signnames.csv` useful as it contains mappings from the class id (integer) to the actual sign name."
   ]
  },
  {
   "cell_type": "code",
   "execution_count": 131,
   "metadata": {},
   "outputs": [
    {
     "name": "stdout",
     "output_type": "stream",
     "text": [
      "{'ClassId': 'SignName', '0': 'Speed limit (20km/h)', '1': 'Speed limit (30km/h)', '2': 'Speed limit (50km/h)', '3': 'Speed limit (60km/h)', '4': 'Speed limit (70km/h)', '5': 'Speed limit (80km/h)', '6': 'End of speed limit (80km/h)', '7': 'Speed limit (100km/h)', '8': 'Speed limit (120km/h)', '9': 'No passing', '10': 'No passing for vehicles over 3.5 metric tons', '11': 'Right-of-way at the next intersection', '12': 'Priority road', '13': 'Yield', '14': 'Stop', '15': 'No vehicles', '16': 'Vehicles over 3.5 metric tons prohibited', '17': 'No entry', '18': 'General caution', '19': 'Dangerous curve to the left', '20': 'Dangerous curve to the right', '21': 'Double curve', '22': 'Bumpy road', '23': 'Slippery road', '24': 'Road narrows on the right', '25': 'Road work', '26': 'Traffic signals', '27': 'Pedestrians', '28': 'Children crossing', '29': 'Bicycles crossing', '30': 'Beware of ice/snow', '31': 'Wild animals crossing', '32': 'End of all speed and passing limits', '33': 'Turn right ahead', '34': 'Turn left ahead', '35': 'Ahead only', '36': 'Go straight or right', '37': 'Go straight or left', '38': 'Keep right', '39': 'Keep left', '40': 'Roundabout mandatory', '41': 'End of no passing', '42': 'End of no passing by vehicles over 3.5 metric tons'}\n"
     ]
    }
   ],
   "source": [
    "import csv\n",
    "\n",
    "with open('signnames.csv') as file:\n",
    "    reader = csv.reader(file)\n",
    "    signs = {rows[0]:rows[1] for rows in reader}\n",
    "    file.close()\n",
    "\n",
    "print(signs)"
   ]
  },
  {
   "cell_type": "markdown",
   "metadata": {},
   "source": [
    "### Load and Output the Images"
   ]
  },
  {
   "cell_type": "code",
   "execution_count": 132,
   "metadata": {},
   "outputs": [
    {
     "data": {
      "image/png": "[encoded data removed]",
      "text/plain": [
       "<Figure size 3600x3600 with 5 Axes>"
      ]
     },
     "metadata": {},
     "output_type": "display_data"
    }
   ],
   "source": [
    "### Load the images and plot them here.\n",
    "\n",
    "from PIL import Image\n",
    "\n",
    "test1 = Image.open('./images_test/1.jpg')\n",
    "test2 = Image.open('./images_test/2.jpg')\n",
    "test3 = Image.open('./images_test/3.jpg')\n",
    "test4 = Image.open('./images_test/4.jpg')\n",
    "test5 = Image.open('./images_test/5.jpg')\n",
    "\n",
    "test = [test1, test2, test3, test4, test5]\n",
    "\n",
    "w=50\n",
    "h=50\n",
    "fig=plt.figure(figsize=(50, 50))\n",
    "\n",
    "columns = 5\n",
    "rows = 1\n",
    "for i in range(1, columns*rows +1):\n",
    "    img = np.random.randint(10, size=(h,w))\n",
    "    fig.add_subplot(rows, columns, i)\n",
    "    plt.axis('off')\n",
    "    plt.imshow(test[i-1])\n",
    "plt.show()"
   ]
  },
  {
   "cell_type": "markdown",
   "metadata": {},
   "source": [
    "### Predict the Sign Type for Each Image"
   ]
  },
  {
   "cell_type": "code",
   "execution_count": 133,
   "metadata": {},
   "outputs": [
    {
     "name": "stderr",
     "output_type": "stream",
     "text": [
      "Clipping input data to the valid range for imshow with RGB data ([0..1] for floats or [0..255] for integers).\n",
      "Clipping input data to the valid range for imshow with RGB data ([0..1] for floats or [0..255] for integers).\n",
      "Clipping input data to the valid range for imshow with RGB data ([0..1] for floats or [0..255] for integers).\n",
      "Clipping input data to the valid range for imshow with RGB data ([0..1] for floats or [0..255] for integers).\n",
      "Clipping input data to the valid range for imshow with RGB data ([0..1] for floats or [0..255] for integers).\n"
     ]
    },
    {
     "data": {
      "image/png": "[encoded data removed]",
      "text/plain": [
       "<Figure size 2304x2304 with 5 Axes>"
      ]
     },
     "metadata": {},
     "output_type": "display_data"
    },
    {
     "name": "stdout",
     "output_type": "stream",
     "text": [
      "Shape of each image: (32, 32, 3)\n"
     ]
    }
   ],
   "source": [
    "# Resize Images to suit Model\n",
    "# Skipping this step since I have pre-resized the images for the final run\n",
    "#for i in range(len(test)):\n",
    "#    test[i] = test[i].resize((32,32))\n",
    "    \n",
    "test = preprocess_images(test)\n",
    "  \n",
    "w=50\n",
    "h=50\n",
    "fig=plt.figure(figsize=(32, 32))\n",
    "\n",
    "columns = 5\n",
    "rows = 1\n",
    "for i in range(1, columns*rows +1):\n",
    "    img = np.random.randint(10, size=(h,w))\n",
    "    fig.add_subplot(rows, columns, i)\n",
    "    plt.axis('off')\n",
    "    plt.imshow(test[i-1])\n",
    "plt.show()\n",
    "\n",
    "print(\"Shape of each image:\",np.array(test[0]).shape)"
   ]
  },
  {
   "cell_type": "code",
   "execution_count": 134,
   "metadata": {},
   "outputs": [
    {
     "name": "stdout",
     "output_type": "stream",
     "text": [
      "INFO:tensorflow:Restoring parameters from ./lenet.ckpt\n",
      "[ 1  2 17 14 38]\n",
      "['Speed limit (30km/h)', 'Speed limit (50km/h)', 'No entry', 'Stop', 'Keep right']\n"
     ]
    }
   ],
   "source": [
    "# Get softmax probabilities for predicted logits\n",
    "softmax = tf.nn.softmax(logits)\n",
    "softmax_out = None\n",
    "\n",
    "with tf.Session() as sess:\n",
    "    \n",
    "    saver.restore(sess, './lenet.ckpt')\n",
    "    logits_test = sess.run(logits, feed_dict={x:np.array(test, dtype=np.float32), keep_prob:1})\n",
    "    softmax_test = sess.run(softmax, feed_dict={x:np.array(test, dtype=np.float32), keep_prob:1})\n",
    "    softmax_out = softmax_test\n",
    "    idx_test = sess.run(tf.math.argmax(input = softmax_test, axis = 1))\n",
    "    print(idx_test)\n",
    "    labels_test = [signs[str(idx)] for idx in idx_test]\n",
    "    print(labels_test)"
   ]
  },
  {
   "cell_type": "markdown",
   "metadata": {},
   "source": [
    "### Analyze Performance"
   ]
  },
  {
   "cell_type": "code",
   "execution_count": 135,
   "metadata": {},
   "outputs": [
    {
     "name": "stdout",
     "output_type": "stream",
     "text": [
      "INFO:tensorflow:Restoring parameters from .\\lenet.ckpt\n",
      "Test Accuracy = 100%\n"
     ]
    }
   ],
   "source": [
    "### Calculate the accuracy for these 5 new images. \n",
    "### For example, if the model predicted 1 out of 5 signs correctly, it's 20% accurate on these new images.\n",
    "labels_true = [1, 2, 17, 14, 38]\n",
    "with tf.Session() as sess:\n",
    "    saver.restore(sess, tf.train.latest_checkpoint('.'))\n",
    "\n",
    "    test_accuracy = evaluate(test, labels_true)\n",
    "    print(\"Test Accuracy = {:.0f}%\".format(test_accuracy*100))"
   ]
  },
  {
   "cell_type": "markdown",
   "metadata": {},
   "source": [
    "### Output Top 5 Softmax Probabilities For Each Image Found on the Web"
   ]
  },
  {
   "cell_type": "markdown",
   "metadata": {},
   "source": [
    "For each of the new images, print out the model's softmax probabilities to show the **certainty** of the model's predictions (limit the output to the top 5 probabilities for each image). [`tf.nn.top_k`](https://www.tensorflow.org/versions/r0.12/api_docs/python/nn.html#top_k) could prove helpful here. \n",
    "\n",
    "The example below demonstrates how tf.nn.top_k can be used to find the top k predictions for each image.\n",
    "\n",
    "`tf.nn.top_k` will return the values and indices (class ids) of the top k predictions. So if k=3, for each sign, it'll return the 3 largest probabilities (out of a possible 43) and the correspoding class ids.\n",
    "\n",
    "Take this numpy array as an example. The values in the array represent predictions. The array contains softmax probabilities for five candidate images with six possible classes. `tf.nn.top_k` is used to choose the three classes with the highest probability:\n",
    "\n",
    "```\n",
    "# (5, 6) array\n",
    "a = np.array([[ 0.24879643,  0.07032244,  0.12641572,  0.34763842,  0.07893497,\n",
    "         0.12789202],\n",
    "       [ 0.28086119,  0.27569815,  0.08594638,  0.0178669 ,  0.18063401,\n",
    "         0.15899337],\n",
    "       [ 0.26076848,  0.23664738,  0.08020603,  0.07001922,  0.1134371 ,\n",
    "         0.23892179],\n",
    "       [ 0.11943333,  0.29198961,  0.02605103,  0.26234032,  0.1351348 ,\n",
    "         0.16505091],\n",
    "       [ 0.09561176,  0.34396535,  0.0643941 ,  0.16240774,  0.24206137,\n",
    "         0.09155967]])\n",
    "```\n",
    "\n",
    "Running it through `sess.run(tf.nn.top_k(tf.constant(a), k=3))` produces:\n",
    "\n",
    "```\n",
    "TopKV2(values=array([[ 0.34763842,  0.24879643,  0.12789202],\n",
    "       [ 0.28086119,  0.27569815,  0.18063401],\n",
    "       [ 0.26076848,  0.23892179,  0.23664738],\n",
    "       [ 0.29198961,  0.26234032,  0.16505091],\n",
    "       [ 0.34396535,  0.24206137,  0.16240774]]), indices=array([[3, 0, 5],\n",
    "       [0, 1, 4],\n",
    "       [0, 5, 1],\n",
    "       [1, 3, 5],\n",
    "       [1, 4, 3]], dtype=int32))\n",
    "```\n",
    "\n",
    "Looking just at the first row we get `[ 0.34763842,  0.24879643,  0.12789202]`, you can confirm these are the 3 largest probabilities in `a`. You'll also notice `[3, 0, 5]` are the corresponding indices."
   ]
  },
  {
   "cell_type": "code",
   "execution_count": 136,
   "metadata": {},
   "outputs": [
    {
     "name": "stdout",
     "output_type": "stream",
     "text": [
      "TopKV2(values=array([[1.0000000e+00, 3.5681770e-11, 8.2597162e-13, 2.2441638e-14,\n",
      "        7.7738532e-15],\n",
      "       [9.7281510e-01, 2.7184865e-02, 5.3675802e-09, 1.8276793e-10,\n",
      "        4.1464193e-11],\n",
      "       [1.0000000e+00, 1.2912427e-20, 2.2971012e-26, 1.0559377e-28,\n",
      "        8.5543383e-30],\n",
      "       [1.0000000e+00, 2.4957199e-08, 5.5576157e-09, 3.6554042e-09,\n",
      "        7.2812610e-11],\n",
      "       [1.0000000e+00, 1.9964966e-13, 1.1837082e-14, 1.3881333e-17,\n",
      "        8.7987026e-19]], dtype=float32), indices=array([[ 1,  5,  2,  4,  0],\n",
      "       [ 2,  1, 40, 38, 36],\n",
      "       [17, 14,  0,  1, 26],\n",
      "       [14, 17,  5,  1, 25],\n",
      "       [38, 40, 34,  8, 36]]))\n"
     ]
    }
   ],
   "source": [
    "### Print out the top five softmax probabilities for the predictions on the German traffic sign images found on the web. \n",
    "\n",
    "with tf.Session() as sess:\n",
    "    topk_softmax = sess.run(tf.math.top_k(softmax_out, k=5))\n",
    "    print(topk_softmax)"
   ]
  },
  {
   "cell_type": "code",
   "execution_count": 137,
   "metadata": {},
   "outputs": [
    {
     "name": "stdout",
     "output_type": "stream",
     "text": [
      "Top 5 predictions for test images:\n",
      " \n",
      "Test Image 1    Actual Label: Speed limit (30km/h)     Predicted Label: Speed limit (30km/h)\n",
      "Top 5 predictions: [1 5 2 4 0]\n",
      "Top 5 labels:\n",
      "\n",
      "Speed limit (30km/h) : 100.00%\n",
      "\n",
      "Speed limit (80km/h) : 0.00%\n",
      "\n",
      "Speed limit (50km/h) : 0.00%\n",
      "\n",
      "Speed limit (70km/h) : 0.00%\n",
      "\n",
      "Speed limit (20km/h) : 0.00%\n",
      "\n",
      "\n",
      "Test Image 2    Actual Label: Speed limit (50km/h)     Predicted Label: Speed limit (50km/h)\n",
      "Top 5 predictions: [ 2  1 40 38 36]\n",
      "Top 5 labels:\n",
      "\n",
      "Speed limit (50km/h) : 97.28%\n",
      "\n",
      "Speed limit (30km/h) : 2.72%\n",
      "\n",
      "Roundabout mandatory : 0.00%\n",
      "\n",
      "Keep right : 0.00%\n",
      "\n",
      "Go straight or right : 0.00%\n",
      "\n",
      "\n",
      "Test Image 3    Actual Label: No entry     Predicted Label: No entry\n",
      "Top 5 predictions: [17 14  0  1 26]\n",
      "Top 5 labels:\n",
      "\n",
      "No entry : 100.00%\n",
      "\n",
      "Stop : 0.00%\n",
      "\n",
      "Speed limit (20km/h) : 0.00%\n",
      "\n",
      "Speed limit (30km/h) : 0.00%\n",
      "\n",
      "Traffic signals : 0.00%\n",
      "\n",
      "\n",
      "Test Image 4    Actual Label: Stop     Predicted Label: Stop\n",
      "Top 5 predictions: [14 17  5  1 25]\n",
      "Top 5 labels:\n",
      "\n",
      "Stop : 100.00%\n",
      "\n",
      "No entry : 0.00%\n",
      "\n",
      "Speed limit (80km/h) : 0.00%\n",
      "\n",
      "Speed limit (30km/h) : 0.00%\n",
      "\n",
      "Road work : 0.00%\n",
      "\n",
      "\n",
      "Test Image 5    Actual Label: Keep right     Predicted Label: Keep right\n",
      "Top 5 predictions: [38 40 34  8 36]\n",
      "Top 5 labels:\n",
      "\n",
      "Keep right : 100.00%\n",
      "\n",
      "Roundabout mandatory : 0.00%\n",
      "\n",
      "Turn left ahead : 0.00%\n",
      "\n",
      "Speed limit (120km/h) : 0.00%\n",
      "\n",
      "Go straight or right : 0.00%\n",
      "\n",
      "\n"
     ]
    }
   ],
   "source": [
    "topk_softmax = np.array(topk_softmax)\n",
    "print(\"Top 5 predictions for test images:\\n \")\n",
    "\n",
    "for i in range(len(test)):\n",
    "    \n",
    "    print(\"Test Image {}    Actual Label: {}     Predicted Label: {}\".format(i+1, signs[str(labels_true[i])], \n",
    "                                                                             signs[str(int(topk_softmax[1][i][0]))]))\n",
    "    print(\"Top 5 predictions: {}\".format(np.array(topk_softmax[1][i]).astype(np.int)))\n",
    "    print(\"Top 5 labels:\\n\")\n",
    "    \n",
    "    for idx in range(len(topk_softmax[1][i])):\n",
    "        print(\"{} : {:.2f}%\\n\".format(signs[str(int(topk_softmax[1][i][idx]))], topk_softmax[0][i][idx]*100))\n",
    "\n",
    "    print()"
   ]
  },
  {
   "cell_type": "markdown",
   "metadata": {},
   "source": [
    "### Project Writeup\n",
    "\n",
    "Once you have completed the code implementation, document your results in a project writeup using this [template](https://github.com/udacity/CarND-Traffic-Sign-Classifier-Project/blob/master/writeup_template.md) as a guide. The writeup can be in a markdown or pdf file. "
   ]
  },
  {
   "cell_type": "markdown",
   "metadata": {},
   "source": [
    "> **Note**: Once you have completed all of the code implementations and successfully answered each question above, you may finalize your work by exporting the iPython Notebook as an HTML document. You can do this by using the menu above and navigating to  \\n\",\n",
    "    \"**File -> Download as -> HTML (.html)**. Include the finished document along with this notebook as your submission."
   ]
  },
  {
   "cell_type": "markdown",
   "metadata": {},
   "source": [
    "---\n",
    "\n",
    "## Step 4 (Optional): Visualize the Neural Network's State with Test Images\n",
    "\n",
    " This Section is not required to complete but acts as an additional excersise for understaning the output of a neural network's weights. While neural networks can be a great learning device they are often referred to as a black box. We can understand what the weights of a neural network look like better by plotting their feature maps. After successfully training your neural network you can see what it's feature maps look like by plotting the output of the network's weight layers in response to a test stimuli image. From these plotted feature maps, it's possible to see what characteristics of an image the network finds interesting. For a sign, maybe the inner network feature maps react with high activation to the sign's boundary outline or to the contrast in the sign's painted symbol.\n",
    "\n",
    " Provided for you below is the function code that allows you to get the visualization output of any tensorflow weight layer you want. The inputs to the function should be a stimuli image, one used during training or a new one you provided, and then the tensorflow variable name that represents the layer's state during the training process, for instance if you wanted to see what the [LeNet lab's](https://classroom.udacity.com/nanodegrees/nd013/parts/fbf77062-5703-404e-b60c-95b78b2f3f9e/modules/6df7ae49-c61c-4bb2-a23e-6527e69209ec/lessons/601ae704-1035-4287-8b11-e2c2716217ad/concepts/d4aca031-508f-4e0b-b493-e7b706120f81) feature maps looked like for it's second convolutional layer you could enter conv2 as the tf_activation variable.\n",
    "\n",
    "For an example of what feature map outputs look like, check out NVIDIA's results in their paper [End-to-End Deep Learning for Self-Driving Cars](https://devblogs.nvidia.com/parallelforall/deep-learning-self-driving-cars/) in the section Visualization of internal CNN State. NVIDIA was able to show that their network's inner weights had high activations to road boundary lines by comparing feature maps from an image with a clear path to one without. Try experimenting with a similar test to show that your trained network's weights are looking for interesting features, whether it's looking at differences in feature maps from images with or without a sign, or even what feature maps look like in a trained network vs a completely untrained one on the same sign image.\n",
    "\n",
    "<figure>\n",
    " <img src=\"visualize_cnn.png\" width=\"380\" alt=\"Combined Image\" />\n",
    " <figcaption>\n",
    " <p></p> \n",
    " <p style=\"text-align: center;\"> Your output should look something like this (above)</p> \n",
    " </figcaption>\n",
    "</figure>\n",
    " <p></p> \n"
   ]
  },
  {
   "cell_type": "code",
   "execution_count": 138,
   "metadata": {},
   "outputs": [],
   "source": [
    "### Visualize your network's feature maps here.\n",
    "### Feel free to use as many code cells as needed.\n",
    "\n",
    "# image_input: the test image being fed into the network to produce the feature maps\n",
    "# tf_activation: should be a tf variable name used during your training procedure that represents the calculated state of a specific weight layer\n",
    "# activation_min/max: can be used to view the activation contrast in more detail, by default matplot sets min and max to the actual min and max values of the output\n",
    "# plt_num: used to plot out multiple different weight feature map sets on the same block, just extend the plt number for each new feature map entry\n",
    "\n",
    "def outputFeatureMap(image_input, tf_activation, activation_min=-1, activation_max=-1 ,plt_num=1):\n",
    "    # Here make sure to preprocess your image_input in a way your network expects\n",
    "    # with size, normalization, ect if needed\n",
    "    # image_input =\n",
    "    # Note: x should be the same name as your network's tensorflow data placeholder variable\n",
    "    # If you get an error tf_activation is not defined it may be having trouble accessing the variable from inside a function\n",
    "    activation = tf_activation.eval(session=sess,feed_dict={x : image_input})\n",
    "    featuremaps = activation.shape[3]\n",
    "    plt.figure(plt_num, figsize=(15,15))\n",
    "    for featuremap in range(featuremaps):\n",
    "        plt.subplot(6,8, featuremap+1) # sets the number of feature maps to show on each row and column\n",
    "        plt.title('FeatureMap ' + str(featuremap)) # displays the feature map number\n",
    "        if activation_min != -1 & activation_max != -1:\n",
    "            plt.imshow(activation[0,:,:, featuremap], interpolation=\"nearest\", vmin =activation_min, vmax=activation_max, cmap=\"gray\")\n",
    "        elif activation_max != -1:\n",
    "            plt.imshow(activation[0,:,:, featuremap], interpolation=\"nearest\", vmax=activation_max, cmap=\"gray\")\n",
    "        elif activation_min !=-1:\n",
    "            plt.imshow(activation[0,:,:, featuremap], interpolation=\"nearest\", vmin=activation_min, cmap=\"gray\")\n",
    "        else:\n",
    "            plt.imshow(activation[0,:,:, featuremap], interpolation=\"nearest\", cmap=\"gray\")"
   ]
  },
  {
   "cell_type": "code",
   "execution_count": 139,
   "metadata": {},
   "outputs": [],
   "source": [
    "#outputFeatureMap(test[0], wfc1)"
   ]
  }
 ],
 "metadata": {
  "anaconda-cloud": {},
  "kernelspec": {
   "display_name": "Python 3",
   "language": "python",
   "name": "python3"
  },
  "language_info": {
   "codemirror_mode": {
    "name": "ipython",
    "version": 3
   },
   "file_extension": ".py",
   "mimetype": "text/x-python",
   "name": "python",
   "nbconvert_exporter": "python",
   "pygments_lexer": "ipython3",
   "version": "3.8.3"
  }
 },
 "nbformat": 4,
 "nbformat_minor": 1
}
